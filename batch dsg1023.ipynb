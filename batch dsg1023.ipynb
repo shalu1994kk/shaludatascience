{
 "cells": [
  {
   "cell_type": "code",
   "execution_count": 4,
   "id": "a0c457a6",
   "metadata": {},
   "outputs": [
    {
     "name": "stdout",
     "output_type": "stream",
     "text": [
      "hello world\n",
      "hdgyd\n"
     ]
    }
   ],
   "source": [
    "print('hello world')\n",
    "print(\"hdgyd\")"
   ]
  },
  {
   "cell_type": "code",
   "execution_count": 2,
   "id": "d3dd1fc5",
   "metadata": {},
   "outputs": [
    {
     "data": {
      "text/plain": [
       "25"
      ]
     },
     "execution_count": 2,
     "metadata": {},
     "output_type": "execute_result"
    }
   ],
   "source": [
    "10+15"
   ]
  },
  {
   "cell_type": "markdown",
   "id": "e4533b13",
   "metadata": {},
   "source": [
    "25-10"
   ]
  },
  {
   "cell_type": "code",
   "execution_count": 3,
   "id": "0f21643b",
   "metadata": {},
   "outputs": [
    {
     "data": {
      "text/plain": [
       "15"
      ]
     },
     "execution_count": 3,
     "metadata": {},
     "output_type": "execute_result"
    }
   ],
   "source": [
    "25-10"
   ]
  },
  {
   "cell_type": "markdown",
   "id": "2b667d87",
   "metadata": {},
   "source": [
    "esc+b=add cell below the present cell"
   ]
  },
  {
   "cell_type": "markdown",
   "id": "fa7625b0",
   "metadata": {},
   "source": [
    "esc+A=add cell above the present cell"
   ]
  },
  {
   "cell_type": "markdown",
   "id": "8b5930e9",
   "metadata": {},
   "source": [
    "ctrl+entr=execute/run the cell"
   ]
  },
  {
   "cell_type": "code",
   "execution_count": null,
   "id": "9c87ae4f",
   "metadata": {},
   "outputs": [],
   "source": []
  },
  {
   "cell_type": "code",
   "execution_count": null,
   "id": "526533b6",
   "metadata": {},
   "outputs": [],
   "source": []
  }
 ],
 "metadata": {
  "kernelspec": {
   "display_name": "Python 3 (ipykernel)",
   "language": "python",
   "name": "python3"
  },
  "language_info": {
   "codemirror_mode": {
    "name": "ipython",
    "version": 3
   },
   "file_extension": ".py",
   "mimetype": "text/x-python",
   "name": "python",
   "nbconvert_exporter": "python",
   "pygments_lexer": "ipython3",
   "version": "3.11.5"
  }
 },
 "nbformat": 4,
 "nbformat_minor": 5
}
