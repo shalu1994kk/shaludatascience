{
 "cells": [
  {
   "cell_type": "code",
   "execution_count": 4,
   "id": "d063e9fd",
   "metadata": {},
   "outputs": [
    {
     "name": "stdout",
     "output_type": "stream",
     "text": [
      "hello world\n",
      "hdgyd\n"
     ]
    }
   ],
   "source": [
    "print('hello world')\n",
    "print(\"hdgyd\")"
   ]
  },
  {
   "cell_type": "code",
   "execution_count": 6,
   "id": "2f8ddfc1",
   "metadata": {},
   "outputs": [
    {
     "data": {
      "text/plain": [
       "25"
      ]
     },
     "execution_count": 6,
     "metadata": {},
     "output_type": "execute_result"
    }
   ],
   "source": [
    "10+15"
   ]
  },
  {
   "cell_type": "markdown",
   "id": "8fec5608",
   "metadata": {},
   "source": [
    "25-10"
   ]
  },
  {
   "cell_type": "code",
   "execution_count": 3,
   "id": "fc4ad99f",
   "metadata": {},
   "outputs": [
    {
     "data": {
      "text/plain": [
       "15"
      ]
     },
     "execution_count": 3,
     "metadata": {},
     "output_type": "execute_result"
    }
   ],
   "source": [
    "25-10"
   ]
  },
  {
   "cell_type": "markdown",
   "id": "69f96e5f",
   "metadata": {},
   "source": [
    "esc+b=add cell below the present cell"
   ]
  },
  {
   "cell_type": "markdown",
   "id": "1ded3838",
   "metadata": {},
   "source": [
    "esc+A=add cell above the present cell"
   ]
  },
  {
   "cell_type": "markdown",
   "id": "810ee5f3",
   "metadata": {},
   "source": [
    "ctrl+entr=execute/run the cell"
   ]
  },
  {
   "cell_type": "code",
   "execution_count": null,
   "id": "c7d2ae4a",
   "metadata": {},
   "outputs": [],
   "source": []
  },
  {
   "cell_type": "code",
   "execution_count": null,
   "id": "9c91bd6f",
   "metadata": {},
   "outputs": [],
   "source": []
  }
 ],
 "metadata": {
  "kernelspec": {
   "display_name": "Python 3 (ipykernel)",
   "language": "python",
   "name": "python3"
  },
  "language_info": {
   "codemirror_mode": {
    "name": "ipython",
    "version": 3
   },
   "file_extension": ".py",
   "mimetype": "text/x-python",
   "name": "python",
   "nbconvert_exporter": "python",
   "pygments_lexer": "ipython3",
   "version": "3.11.5"
  }
 },
 "nbformat": 4,
 "nbformat_minor": 5
}
